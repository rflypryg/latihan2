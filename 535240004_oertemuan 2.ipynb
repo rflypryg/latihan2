{
 "cells": [
  {
   "cell_type": "code",
   "execution_count": 2,
   "metadata": {},
   "outputs": [],
   "source": [
    "import numpy as np"
   ]
  },
  {
   "cell_type": "code",
   "execution_count": 3,
   "metadata": {},
   "outputs": [
    {
     "name": "stdout",
     "output_type": "stream",
     "text": [
      "Augmentasi Matriks: \n",
      " [[ 2.  2.  1.  3.]\n",
      " [ 1. -1.  1.  4.]\n",
      " [ 3.  2. -2.  2.]]\n"
     ]
    },
    {
     "ename": "NameError",
     "evalue": "name 'c' is not defined",
     "output_type": "error",
     "traceback": [
      "\u001b[1;31m---------------------------------------------------------------------------\u001b[0m",
      "\u001b[1;31mNameError\u001b[0m                                 Traceback (most recent call last)",
      "Cell \u001b[1;32mIn[3], line 24\u001b[0m\n\u001b[0;32m     21\u001b[0m     \u001b[38;5;28;01mraise\u001b[39;00m \u001b[38;5;167;01mValueError\u001b[39;00m(\u001b[38;5;124m\"\u001b[39m\u001b[38;5;124mSistem tidak memiliki solusi unit atau tak terdeteksi.\u001b[39m\u001b[38;5;124m\"\u001b[39m)\n\u001b[0;32m     23\u001b[0m a[k,:] \u001b[38;5;241m/\u001b[39m\u001b[38;5;241m=\u001b[39m pivot\n\u001b[1;32m---> 24\u001b[0m \u001b[43mc\u001b[49m[k] \u001b[38;5;241m/\u001b[39m\u001b[38;5;241m=\u001b[39m pivot\n\u001b[0;32m     26\u001b[0m \u001b[38;5;28;01mfor\u001b[39;00m i \u001b[38;5;129;01min\u001b[39;00m \u001b[38;5;28mrange\u001b[39m(k\u001b[38;5;241m+\u001b[39m\u001b[38;5;241m1\u001b[39m, n):\n\u001b[0;32m     27\u001b[0m     factor \u001b[38;5;241m=\u001b[39m a[i, k]\n",
      "\u001b[1;31mNameError\u001b[0m: name 'c' is not defined"
     ]
    }
   ],
   "source": [
    "a = np.array ([[2, 2, 1],\n",
    "               [1, -1 , 1],\n",
    "               [3, 2, -2]], dtype=float)\n",
    "\n",
    "b = np.array([3, 4, 2], dtype = float)\n",
    "n = len(b)\n",
    "print(\"Augmentasi Matriks: \\n\", np.column_stack((a,b)))\n",
    "\n",
    "#Eliminasi gauss untuk membentuk matriks segitiga atas\n",
    "for k in range(n):\n",
    "    \n",
    "    if a[k,k] == 0:\n",
    "        for i in range(k, len(b)):\n",
    "            if a[i, k] != 0:\n",
    "                a[[k, i]] = a[[i, k]]\n",
    "                b[[k, i]] = b[[i, k]]\n",
    "                break\n",
    "            \n",
    "    pivot = a [k, k]\n",
    "    if pivot == 0:\n",
    "        raise ValueError(\"Sistem tidak memiliki solusi unit atau tak terdeteksi.\")\n",
    "    \n",
    "    a[k,:] /= pivot\n",
    "    c[k] /= pivot\n",
    "    \n",
    "    for i in range(k+1, n):\n",
    "        factor = a[i, k]\n",
    "        a[i, k:] -= faktor * a [k, k]\n",
    "        b[i] -= factor * b[k]\n",
    "        \n",
    "print(\"Matriks setelah eliminasi Gauss: \")\n",
    "print(np.column_stack((a, b)))\n",
    "\n",
    "#Substitusi mundur untuk mendapat hasil\n",
    "x = np.zeros(n)\n",
    "x[-1] = b[-1] / a[-1, -1]\n",
    "\n",
    "for i in range(n-2, -1, -1):\n",
    "    sum_val = b[i] - np.dot(a[i, i+1:], x[i+1])\n",
    "    x[i] = sum_val / a[i, i]\n",
    "    \n",
    "print(\"Sulusi\")\n",
    "for i in range(len(x)):\n",
    "    print(\"x%d = %.4f\" % (i+1, x[i]))"
   ]
  }
 ],
 "metadata": {
  "kernelspec": {
   "display_name": "Python 3",
   "language": "python",
   "name": "python3"
  },
  "language_info": {
   "codemirror_mode": {
    "name": "ipython",
    "version": 3
   },
   "file_extension": ".py",
   "mimetype": "text/x-python",
   "name": "python",
   "nbconvert_exporter": "python",
   "pygments_lexer": "ipython3",
   "version": "3.13.2"
  }
 },
 "nbformat": 4,
 "nbformat_minor": 2
}
